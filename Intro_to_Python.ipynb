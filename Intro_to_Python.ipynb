# This is a comment
print("Hello, world")
Hello, world
Python Variable

#Single variable
a = float(10)
b = -1

#multiple variables
a,b = float(8),-1


#string type

c = "Ela"
print(a)

#string type

c = str("Ela")
c

print(c)
print(c)
print(c)
8.0
Ela
Ela
Ela
Type () function
print(type(c))
<class 'str'>
#Proper Indentation

if 5>2:
  print("5 is greater than 1")
5 is greater than 1
Single and Double Quote

f = "Jane"
g = 'Jane'

print(f)
print(g)
Jane
Jane
Multiple Variables

x,y,z = 1,2,3

print(x)
print(y)
print(z)
1
2
3
Single Values to Multiple Variables

x=y=z="python"
print(x)
print(y)
print(z)
python
python
python
Output Variables

x = "enjoying"
y = "Python Programming is"

print(y+" " + x)
Python Programming is enjoying
Arithmetic Operations

a = 3%2
print(a)
b = 3//2
print(b)

c = 7
print(c**2)
1
1
49
Assignment Operators

c = 5
c+=3    # c = c+3  , c = 5+3
print(c)
8
Comparison Operators

i=5>2   #True
h = 3>5 #False
print(i)
print(h)

not(i or h)
True
False
False
Identity Operators

i is not h
True
Bitwise Operators

v = 10
v<<2

y = 2

y>>1
1
