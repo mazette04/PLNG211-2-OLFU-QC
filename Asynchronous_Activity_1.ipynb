{
  "nbformat": 4,
  "nbformat_minor": 0,
  "metadata": {
    "colab": {
      "provenance": [],
      "authorship_tag": "ABX9TyNyZKskDVMfJgipLwiTW2e9",
      "include_colab_link": true
    },
    "kernelspec": {
      "name": "python3",
      "display_name": "Python 3"
    },
    "language_info": {
      "name": "python"
    }
  },
  "cells": [
    {
      "cell_type": "markdown",
      "metadata": {
        "id": "view-in-github",
        "colab_type": "text"
      },
      "source": [
        "<a href=\"https://colab.research.google.com/github/ABEGAIL-PLNG211-2-OLFU-QC/PLNG211-2-OLFU-QC/blob/main/Asynchronous_Activity_1.ipynb\" target=\"_parent\"><img src=\"https://colab.research.google.com/assets/colab-badge.svg\" alt=\"Open In Colab\"/></a>"
      ]
    },
    {
      "cell_type": "code",
      "execution_count": null,
      "metadata": {
        "colab": {
          "base_uri": "https://localhost:8080/"
        },
        "id": "riESxhhBhLOP",
        "outputId": "8496f264-357f-4c81-d090-87565299ab87"
      },
      "outputs": [
        {
          "output_type": "stream",
          "name": "stdout",
          "text": [
            "Salary:  600\n",
            "Taxable Amount:  2700.0\n",
            "Net Pay:  6300.0\n"
          ]
        }
      ],
      "source": [
        "Salary_rate=600\n",
        "Salary = Salary_rate * 15\n",
        "Taxable_amount = Salary*0.3\n",
        "Net_pay = Salary-Taxable_amount\n",
        "print(\"Salary: \", Salary_rate)\n",
        "print(\"Taxable Amount: \", Taxable_amount)\n",
        "print(\"Net Pay: \", Net_pay)"
      ]
    }
  ]
}