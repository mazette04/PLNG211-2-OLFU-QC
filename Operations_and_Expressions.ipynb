{
  "nbformat": 4,
  "nbformat_minor": 0,
  "metadata": {
    "colab": {
      "provenance": [],
      "authorship_tag": "ABX9TyNbR22uuqpS8sZaTAtW6cPd"
    },
    "kernelspec": {
      "name": "python3",
      "display_name": "Python 3"
    },
    "language_info": {
      "name": "python"
    }
  },
  "cells": [
    {
      "cell_type": "markdown",
      "source": [
        "Boolean Operators"
      ],
      "metadata": {
        "id": "LVss4D1S9oPg"
      }
    },
    {
      "cell_type": "code",
      "source": [
        "a = 10\n",
        "b = 5\n",
        "print(a>b)\n",
        "print(b==a)\n",
        "print(5>10)"
      ],
      "metadata": {
        "colab": {
          "base_uri": "https://localhost:8080/"
        },
        "id": "ovT9VCB49rR4",
        "outputId": "36aa49f7-9ce1-44e9-efb7-71521dc8e191"
      },
      "execution_count": 3,
      "outputs": [
        {
          "output_type": "stream",
          "name": "stdout",
          "text": [
            "True\n",
            "False\n",
            "False\n"
          ]
        }
      ]
    },
    {
      "cell_type": "markdown",
      "source": [
        "Boolean () Function"
      ],
      "metadata": {
        "id": "dT4dXZoC-C1n"
      }
    },
    {
      "cell_type": "code",
      "source": [
        "print(bool(2))\n",
        "print(bool(\"Hello World\"))\n",
        "print(bool(0))\n",
        "print(bool(None))\n",
        "print(bool([]))"
      ],
      "metadata": {
        "colab": {
          "base_uri": "https://localhost:8080/"
        },
        "id": "7fWbtQPS-GpD",
        "outputId": "0b212ba3-8c85-4254-fe14-49339d127a7f"
      },
      "execution_count": 8,
      "outputs": [
        {
          "output_type": "stream",
          "name": "stdout",
          "text": [
            "True\n",
            "True\n",
            "False\n",
            "False\n",
            "False\n"
          ]
        }
      ]
    },
    {
      "cell_type": "markdown",
      "source": [
        "Function that returns a boolean answer"
      ],
      "metadata": {
        "id": "dsk3Dsbn-h-0"
      }
    },
    {
      "cell_type": "code",
      "source": [
        "def My_Function():\n",
        "  return False\n",
        "\n",
        "if My_Function():\n",
        "  print(\"Correct\")\n",
        "else:\n",
        "  print(\"Incorrect\")"
      ],
      "metadata": {
        "colab": {
          "base_uri": "https://localhost:8080/"
        },
        "id": "fDEM2PpA-tXr",
        "outputId": "c6b1b7f3-b231-40c6-a66e-03215d39e5f7"
      },
      "execution_count": 12,
      "outputs": [
        {
          "output_type": "stream",
          "name": "stdout",
          "text": [
            "Incorrect\n"
          ]
        }
      ]
    },
    {
      "cell_type": "markdown",
      "source": [
        "You Try!"
      ],
      "metadata": {
        "id": "97ank0ag_mBI"
      }
    },
    {
      "cell_type": "code",
      "source": [
        "c = 6\n",
        "d = 7\n",
        "print(c==d)\n",
        "print(c!=d)"
      ],
      "metadata": {
        "colab": {
          "base_uri": "https://localhost:8080/"
        },
        "id": "fVFID7R5_pJT",
        "outputId": "ed6650c0-856d-4ff6-9863-a6d41d6f02ba"
      },
      "execution_count": 16,
      "outputs": [
        {
          "output_type": "stream",
          "name": "stdout",
          "text": [
            "False\n",
            "True\n"
          ]
        }
      ]
    },
    {
      "cell_type": "markdown",
      "source": [
        "Python Operators"
      ],
      "metadata": {
        "id": "fTwSKDGAA1Bb"
      }
    },
    {
      "cell_type": "code",
      "source": [
        "print(5+15)\n",
        "print(15-5)\n",
        "print(5*5)\n",
        "print(5**5)\n",
        "print(9/3)       #division\n",
        "print(9//4)      #floor division\n",
        "print(9%4)        #remainder"
      ],
      "metadata": {
        "colab": {
          "base_uri": "https://localhost:8080/"
        },
        "id": "94cZED2cA3IE",
        "outputId": "b9fa51d3-29dd-4dd8-c49e-4c6fd2f750fc"
      },
      "execution_count": 17,
      "outputs": [
        {
          "output_type": "stream",
          "name": "stdout",
          "text": [
            "20\n",
            "10\n",
            "25\n",
            "3125\n",
            "3.0\n",
            "2\n",
            "1\n"
          ]
        }
      ]
    },
    {
      "cell_type": "code",
      "source": [],
      "metadata": {
        "id": "NKoOIeOwEIIS"
      },
      "execution_count": null,
      "outputs": []
    },
    {
      "cell_type": "markdown",
      "source": [
        "Python Bitwise Operators"
      ],
      "metadata": {
        "id": "JXxCOG8hCDQz"
      }
    },
    {
      "cell_type": "code",
      "source": [
        "e = 60\n",
        "f = 13        \n",
        "#& and, #| or,   #-/~\n",
        "\n",
        "print(e>>1)\n",
        "print(e<<1)\n",
        "print(~f)      #00001101, 2s complement"
      ],
      "metadata": {
        "colab": {
          "base_uri": "https://localhost:8080/"
        },
        "id": "ZRUBjBo7CFvg",
        "outputId": "8d823bd4-635d-4b42-f556-fbb935660275"
      },
      "execution_count": 24,
      "outputs": [
        {
          "output_type": "stream",
          "name": "stdout",
          "text": [
            "30\n",
            "120\n",
            "-14\n"
          ]
        }
      ]
    },
    {
      "cell_type": "markdown",
      "source": [
        "Python Assignment Operator"
      ],
      "metadata": {
        "id": "Irom_Oa8Fx6q"
      }
    },
    {
      "cell_type": "code",
      "source": [
        "x= 18\n",
        "y = 7\n",
        "x+=3    #same as x = x +3   , x  = 18+3  = 21\n",
        "print(\"x=\",x)"
      ],
      "metadata": {
        "colab": {
          "base_uri": "https://localhost:8080/"
        },
        "id": "FieB1ezfF4hW",
        "outputId": "24c02eda-e917-41db-c8f3-285f0676a6e3"
      },
      "execution_count": 29,
      "outputs": [
        {
          "output_type": "stream",
          "name": "stdout",
          "text": [
            "x= 21\n"
          ]
        }
      ]
    },
    {
      "cell_type": "markdown",
      "source": [
        "Logical Operators"
      ],
      "metadata": {
        "id": "DY3drPBuGXd9"
      }
    },
    {
      "cell_type": "code",
      "source": [
        "print(x>y and x==x)\n",
        "print(y!=y or x==y)\n",
        "print(not(y!=y or x==y))"
      ],
      "metadata": {
        "colab": {
          "base_uri": "https://localhost:8080/"
        },
        "id": "GBECKn6eGvVb",
        "outputId": "c43d922c-55ab-4488-97ac-26fd9ae261b6"
      },
      "execution_count": 36,
      "outputs": [
        {
          "output_type": "stream",
          "name": "stdout",
          "text": [
            "True\n",
            "False\n",
            "True\n"
          ]
        }
      ]
    },
    {
      "cell_type": "markdown",
      "source": [
        "Identity Operators"
      ],
      "metadata": {
        "id": "US5Uv1SQH0g7"
      }
    },
    {
      "cell_type": "code",
      "source": [
        "#is, is not\n",
        "print(x is y)\n",
        "print(x is x)\n",
        "print(x is not y)\n"
      ],
      "metadata": {
        "colab": {
          "base_uri": "https://localhost:8080/"
        },
        "id": "-brShAvNH2hx",
        "outputId": "3b2fbbe1-69a8-45a5-ed9e-0b3ca4f789ac"
      },
      "execution_count": 40,
      "outputs": [
        {
          "output_type": "stream",
          "name": "stdout",
          "text": [
            "False\n",
            "True\n",
            "True\n"
          ]
        }
      ]
    }
  ]
}